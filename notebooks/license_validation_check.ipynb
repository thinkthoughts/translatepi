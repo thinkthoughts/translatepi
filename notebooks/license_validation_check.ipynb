{
 "cells": [
  {
   "cell_type": "markdown",
   "id": "b2b554de",
   "metadata": {},
   "source": [
    "\n",
    "# Validating TranslatePi.ai Licensing Conditions\n",
    "\n",
    "This notebook walks through structured checks to validate that all files and future extensions within `TranslatePi.ai` adhere to the explicitly nonviolent and second-person constraints declared in the ∇-License refinement.\n",
    "\n",
    "It ensures that:\n",
    "- Mathematical expressions respect bilateral balance (1+1 ≠ 1-1).\n",
    "- No file attempts collapse-logic injection (ZOS, ±1(9424Pi), etc.).\n",
    "- All files include second-person or relational references (resisting recursion).\n"
   ]
  },
  {
   "cell_type": "code",
   "execution_count": null,
   "id": "e8314da3",
   "metadata": {},
   "outputs": [],
   "source": [
    "\n",
    "import os\n",
    "import json\n",
    "\n",
    "def scan_file_for_disqualifications(path):\n",
    "    disqualifications = [\"1-1=2\", \"-1\", \"±1(9424Pi)\", \"collapse\", \"ZOS\"]\n",
    "    with open(path, \"r\", encoding=\"utf-8\", errors=\"ignore\") as f:\n",
    "        content = f.read()\n",
    "        for dq in disqualifications:\n",
    "            if dq in content:\n",
    "                return dq\n",
    "    return None\n",
    "\n",
    "flagged = {}\n",
    "for root, dirs, files in os.walk(\".\"):\n",
    "    for file in files:\n",
    "        if file.endswith((\".py\", \".md\", \".html\")):\n",
    "            full_path = os.path.join(root, file)\n",
    "            issue = scan_file_for_disqualifications(full_path)\n",
    "            if issue:\n",
    "                flagged[full_path] = issue\n",
    "\n",
    "if flagged:\n",
    "    print(\"⚠️ Files with potential disqualification terms found:\")\n",
    "    for f, issue in flagged.items():\n",
    "        print(f\" - {f}: contains '{issue}'\")\n",
    "else:\n",
    "    print(\"✅ All scanned files pass second-person, non-collapse validation.\")\n"
   ]
  }
 ],
 "metadata": {},
 "nbformat": 4,
 "nbformat_minor": 5
}
