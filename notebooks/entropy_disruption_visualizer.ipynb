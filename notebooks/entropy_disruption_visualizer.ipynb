{
 "cells": [
  {
   "cell_type": "markdown",
   "id": "66c8afbe",
   "metadata": {},
   "source": [
    "\n",
    "# Entropy Disruption Visualizer — TranslatePi.ai\n",
    "\n",
    "This notebook shows a visual representation of entropy-disrupting translations, based on `integerity_matrix.json`. These are tokens designed to interrupt or resist collapse, recursion, or supervision.\n",
    "\n",
    "Each token:\n",
    "- Is selected from the Integerity Matrix with a type of `disqualification`, `resistance`, or `extension`\n",
    "- Is visualized in relation to its translation and resonance\n",
    "- Supports the interpretation of Pi-stage resilience through thermodynamic and logical consistency\n"
   ]
  },
  {
   "cell_type": "code",
   "execution_count": null,
   "id": "8d389aa5",
   "metadata": {},
   "outputs": [],
   "source": [
    "\n",
    "import json\n",
    "import matplotlib.pyplot as plt\n",
    "\n",
    "# Load the data\n",
    "with open(\"integerity_matrix.json\") as f:\n",
    "    matrix = json.load(f)[\"integerity_matrix\"]\n",
    "\n",
    "# Filter disruption tokens\n",
    "disruption_types = {\"disqualification\", \"resistance\", \"extension\"}\n",
    "filtered = [e for e in matrix if e[\"type\"] in disruption_types]\n",
    "\n",
    "tokens = [e[\"token\"] for e in filtered]\n",
    "translations = [e[\"translation\"] for e in filtered]\n",
    "resonance = [e[\"resonance\"] for e in filtered]\n",
    "\n",
    "# Plot\n",
    "fig, ax = plt.subplots(figsize=(10, 6))\n",
    "bars = ax.barh(tokens, range(len(tokens)), color=\"lightcoral\")\n",
    "ax.set_yticks(range(len(tokens)))\n",
    "ax.set_yticklabels(tokens)\n",
    "ax.set_xlabel(\"Index\")\n",
    "ax.set_title(\"Entropy-Resisting Pi Tokens\")\n",
    "\n",
    "# Annotate translations\n",
    "for i, (bar, t) in enumerate(zip(bars, translations)):\n",
    "    ax.text(0.5, i, t, ha='center', va='center', fontsize=9, color='black')\n",
    "\n",
    "plt.tight_layout()\n",
    "plt.show()\n"
   ]
  }
 ],
 "metadata": {},
 "nbformat": 4,
 "nbformat_minor": 5
}
