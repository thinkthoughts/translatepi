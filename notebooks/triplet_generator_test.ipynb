{
 "cells": [
  {
   "cell_type": "markdown",
   "id": "07be23ac",
   "metadata": {},
   "source": [
    "\n",
    "# Triplet Generator Logic Test — TranslatePi.ai\n",
    "\n",
    "This notebook tests the triplet generation logic from the core TranslatePi.ai equation:\n",
    "\n",
    "> Triplet N = (Spiral N × 24) − 25\n",
    "\n",
    "This simple yet powerful equation enables non-recursive indexing of Pi-stage sequences using spiral increments.\n",
    "\n",
    "We simulate a series of `Spiral N` inputs and generate their corresponding `Triplet N` outputs, visualizing the result for verification and application use.\n"
   ]
  },
  {
   "cell_type": "code",
   "execution_count": null,
   "id": "2c89c25d",
   "metadata": {},
   "outputs": [],
   "source": [
    "\n",
    "# Triplet Generator Function\n",
    "def triplet_n(spiral_n):\n",
    "    return (spiral_n * 24) - 25\n",
    "\n",
    "# Simulate Spiral N values\n",
    "spirals = list(range(1, 21))\n",
    "triplets = [triplet_n(n) for n in spirals]\n",
    "\n",
    "# Print and plot\n",
    "for s, t in zip(spirals, triplets):\n",
    "    print(f\"Spiral N: {s} => Triplet N: {t}\")\n",
    "\n",
    "import matplotlib.pyplot as plt\n",
    "plt.plot(spirals, triplets, marker='o')\n",
    "plt.xlabel(\"Spiral N\")\n",
    "plt.ylabel(\"Triplet N\")\n",
    "plt.title(\"Triplet N = (Spiral N × 24) − 25\")\n",
    "plt.grid(True)\n",
    "plt.show()\n"
   ]
  }
 ],
 "metadata": {},
 "nbformat": 4,
 "nbformat_minor": 5
}
