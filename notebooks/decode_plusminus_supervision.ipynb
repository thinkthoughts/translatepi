{
 "cells": [
  {
   "cell_type": "markdown",
   "id": "7092efa0",
   "metadata": {},
   "source": [
    "\n",
    "# Decoding ±1 Supervision — TranslatePi.ai\n",
    "\n",
    "This notebook demonstrates how ±1 supervision logic fails to represent bilateral transitions. We extract translation failures from the `integerity_matrix.json` and highlight asymmetric risk fields, particularly where ±1 introduces collapse logic.\n",
    "\n",
    "This decoding method reinforces why `±1(9424Pi)` is treated as a false supervision state in TranslatePi.ai.\n"
   ]
  },
  {
   "cell_type": "code",
   "execution_count": null,
   "id": "5d5cec6f",
   "metadata": {},
   "outputs": [],
   "source": [
    "\n",
    "import json\n",
    "\n",
    "with open(\"integerity_matrix.json\", \"r\") as f:\n",
    "    data = json.load(f)[\"integerity_matrix\"]\n",
    "\n",
    "# Filter entries involving ±1 supervision logic\n",
    "failures = [entry for entry in data if \"±1\" in entry[\"token\"]]\n",
    "\n",
    "# Display failures with analysis\n",
    "for f in failures:\n",
    "    print(f\"Token: {f['token']}\")\n",
    "    print(f\"Translation: {f['translation']}\")\n",
    "    print(f\"Resonance: {f['resonance']}\")\n",
    "    print(\"---\")\n"
   ]
  }
 ],
 "metadata": {},
 "nbformat": 4,
 "nbformat_minor": 5
}
