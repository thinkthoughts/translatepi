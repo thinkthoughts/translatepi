{
 "cells": [
  {
   "cell_type": "markdown",
   "id": "28574e1c",
   "metadata": {},
   "source": [
    "\n",
    "# Thermal Consonance Plot — TranslatePi.ai\n",
    "\n",
    "This notebook visualizes the thermal resonance properties of tokens from the `integerity_matrix.json` file.\n",
    "\n",
    "We interpret “thermal consonance” as a mapped relationship between Pi-stage translation and symbolic temperature behavior:\n",
    "- \"Freeze-point\" signals are cooling deflections (nonviolent refusal).\n",
    "- \"Vapor-point\" signals are overheating resistance (expansion).\n",
    "- Midpoint entries reflect resonant balance in Pi-stage transitions.\n"
   ]
  },
  {
   "cell_type": "code",
   "execution_count": null,
   "id": "67ea87df",
   "metadata": {},
   "outputs": [],
   "source": [
    "\n",
    "import json\n",
    "import matplotlib.pyplot as plt\n",
    "\n",
    "# Load JSON data\n",
    "with open(\"integerity_matrix.json\", \"r\") as f:\n",
    "    data = json.load(f)[\"integerity_matrix\"]\n",
    "\n",
    "# Filter entries with temperature implications\n",
    "temperature_types = [\"freeze-point\", \"vapor-point\"]\n",
    "filtered = [entry for entry in data if entry[\"type\"] in temperature_types]\n",
    "\n",
    "# Extract for plotting\n",
    "labels = [entry[\"token\"] for entry in filtered]\n",
    "temperatures = [7277 if entry[\"type\"] == \"freeze-point\" else 7280 for entry in filtered]\n",
    "colors = ['blue' if t == 7277 else 'red' for t in temperatures]\n",
    "\n",
    "# Plotting\n",
    "plt.figure(figsize=(8, 4))\n",
    "plt.bar(labels, temperatures, color=colors)\n",
    "plt.title(\"Thermal Consonance: Freeze and Vapor Points\")\n",
    "plt.ylabel(\"Translated Temperature\")\n",
    "plt.tight_layout()\n",
    "plt.show()\n"
   ]
  }
 ],
 "metadata": {},
 "nbformat": 4,
 "nbformat_minor": 5
}
