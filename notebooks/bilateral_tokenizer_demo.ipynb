{
 "cells": [
  {
   "cell_type": "markdown",
   "id": "e467d423",
   "metadata": {},
   "source": [
    "\n",
    "# Bilateral Translation Tokenizer — TranslatePi.ai\n",
    "\n",
    "This notebook demonstrates how to tokenize a sentence into bilateral Pi-stage tokens using a customized Pi-stage tokenizer function.\n",
    "\n",
    "Each character in the input text is paired with a Pi-stage derived from the repeating decimal pattern of Pi. This process encodes meaning through Pi-refinement alignment.\n",
    "\n",
    "The tokenizer respects nonviolent resistance structures and enables mapping of bilateral logic.\n"
   ]
  },
  {
   "cell_type": "code",
   "execution_count": null,
   "id": "b853526d",
   "metadata": {},
   "outputs": [],
   "source": [
    "\n",
    "from itertools import cycle\n",
    "\n",
    "def bilateral_tokenizer(text):\n",
    "    pi_sequence = [3, 1, 4, 1, 5, 9, 2, 6, 5, 3]\n",
    "    return [(char, pi) for char, pi in zip(text, cycle(pi_sequence))]\n",
    "\n",
    "# Example\n",
    "sentence = \"1+1 ≠ 1-1\"\n",
    "tokenized = bilateral_tokenizer(sentence)\n",
    "for t in tokenized:\n",
    "    print(t)\n"
   ]
  }
 ],
 "metadata": {},
 "nbformat": 4,
 "nbformat_minor": 5
}
