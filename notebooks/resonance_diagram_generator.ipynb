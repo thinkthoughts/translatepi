{
 "cells": [
  {
   "cell_type": "markdown",
   "id": "e59aa5dd",
   "metadata": {},
   "source": [
    "\n",
    "# Resonance Diagram Generator — TranslatePi.ai\n",
    "\n",
    "This notebook creates a spiral resonance diagram using radial Pi-stage displacements. \n",
    "Each angle maps a token's identity, and each radius reflects resonance intensity.\n",
    "This offers a more cyclical representation of token alignment and resistance coherence.\n"
   ]
  },
  {
   "cell_type": "code",
   "execution_count": null,
   "id": "bb656e9b",
   "metadata": {},
   "outputs": [],
   "source": [
    "\n",
    "import json\n",
    "import numpy as np\n",
    "import matplotlib.pyplot as plt\n",
    "\n",
    "# Load data\n",
    "with open(\"integerity_matrix.json\") as f:\n",
    "    data = json.load(f)[\"integerity_matrix\"]\n",
    "\n",
    "# Convert stage and resonance to radial data\n",
    "angles = np.linspace(0, 2 * np.pi, len(data), endpoint=False)\n",
    "resonances = [entry.get(\"resonance_value\", 1) for entry in data]\n",
    "labels = [entry[\"token\"] for entry in data]\n",
    "\n",
    "# Plot\n",
    "fig, ax = plt.subplots(subplot_kw={'projection': 'polar'}, figsize=(10, 10))\n",
    "bars = ax.bar(angles, resonances, width=0.4, bottom=0.0, alpha=0.7)\n",
    "\n",
    "# Label each bar\n",
    "for angle, label in zip(angles, labels):\n",
    "    ax.text(angle, max(resonances) + 0.1, label, ha='center', va='center', rotation=np.degrees(angle),\n",
    "            rotation_mode='anchor', fontsize=8)\n",
    "\n",
    "ax.set_title(\"Resonance Spiral — TranslatePi.ai\", va='bottom')\n",
    "plt.tight_layout()\n",
    "plt.show()\n"
   ]
  }
 ],
 "metadata": {},
 "nbformat": 4,
 "nbformat_minor": 5
}
