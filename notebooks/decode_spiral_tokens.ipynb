{
 "cells": [
  {
   "cell_type": "markdown",
   "id": "393c125c",
   "metadata": {},
   "source": [
    "\n",
    "# Decode Spiral Tokens — TranslatePi.ai\n",
    "\n",
    "This notebook helps decode and visualize spiral token logic using `pi_translator.py`.\n",
    "\n",
    "Each decoded character is matched to a specific Pi-stage index, helping illustrate how text is mapped into thermodynamic Pi-consonant identity rulesets. This approach avoids recursion and decimal collapse by reinforcing resistance-based logic per TranslatePi.ai principles.\n"
   ]
  },
  {
   "cell_type": "code",
   "execution_count": null,
   "id": "92d6efe0",
   "metadata": {},
   "outputs": [],
   "source": [
    "\n",
    "from pi_translator import tokenize\n",
    "\n",
    "sample = \"Translate Pi\"\n",
    "\n",
    "# Tokenize and display results\n",
    "tokens = tokenize(sample)\n",
    "for char, pi_stage in tokens:\n",
    "    print(f\"'{char}' → Pi-stage {pi_stage}\")\n"
   ]
  }
 ],
 "metadata": {},
 "nbformat": 4,
 "nbformat_minor": 5
}
