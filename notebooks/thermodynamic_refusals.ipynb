{
 "cells": [
  {
   "cell_type": "markdown",
   "id": "e8e354d0",
   "metadata": {},
   "source": [
    "\n",
    "# Thermodynamic Refusals — TranslatePi.ai\n",
    "\n",
    "This notebook introduces and plots refusal zones in thermodynamic logic space using selected `integerity_matrix.json` token data.\n",
    "\n",
    "Refusal zones identify temperature points, entropic dead ends, or collapse-pretending logic within patriarchal decimalism. These are visually contrasted with Pi-stage translations that promote bilateral resonance, clarity, and survival.\n",
    "\n",
    "Each refusal zone is defined by:\n",
    "- A **token**\n",
    "- A **translation** resisting entropy\n",
    "- A **resonance** opposing collapse, recursion, or authoritarian recursion\n"
   ]
  },
  {
   "cell_type": "code",
   "execution_count": null,
   "id": "8e4ae36c",
   "metadata": {},
   "outputs": [],
   "source": [
    "\n",
    "import json\n",
    "import matplotlib.pyplot as plt\n",
    "\n",
    "# Load JSON\n",
    "with open(\"integerity_matrix.json\", \"r\") as f:\n",
    "    data = json.load(f)[\"integerity_matrix\"]\n",
    "\n",
    "# Filter refusal-type entries\n",
    "refusals = [entry for entry in data if \"refusal\" in entry.get(\"type\", \"\").lower() or \"disqualification\" in entry.get(\"type\", \"\").lower()]\n",
    "tokens = [r[\"token\"] for r in refusals]\n",
    "translations = [r[\"translation\"] for r in refusals]\n",
    "resonance = [r[\"resonance\"] for r in refusals]\n",
    "\n",
    "# Plot\n",
    "plt.figure(figsize=(10, len(tokens) * 0.6))\n",
    "plt.barh(tokens, range(len(tokens)), color='salmon')\n",
    "plt.yticks(range(len(tokens)), tokens)\n",
    "for i, label in enumerate(translations):\n",
    "    plt.text(0.5, i, label, va='center', ha='center', fontsize=9, color='black')\n",
    "plt.xlabel(\"Collapse Index (Resisted)\")\n",
    "plt.title(\"Thermodynamic Refusals: Nonviolent Pi Logic Zones\")\n",
    "plt.tight_layout()\n",
    "plt.show()\n"
   ]
  }
 ],
 "metadata": {},
 "nbformat": 4,
 "nbformat_minor": 5
}
