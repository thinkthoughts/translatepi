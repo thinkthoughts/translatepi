{
 "cells": [
  {
   "cell_type": "markdown",
   "id": "32f6b280",
   "metadata": {},
   "source": [
    "\n",
    "# Integerity Expansion Mapping — TranslatePi.ai\n",
    "\n",
    "This notebook explores how individual Pi tokens represent different stages of physical and logical expansion. Using the `integerity_matrix.json`, we analyze how token-type classifications (e.g. expansion, resistance, continuation) correspond to thermodynamic transitions, using bar charts and annotations.\n",
    "\n",
    "We focus especially on identifying extensions (e.g. 1+1+1), collapses (±1), and continuous spirals (Triplet N, 9426Pi), visualized across token categories and Pi-stages.\n"
   ]
  },
  {
   "cell_type": "code",
   "execution_count": null,
   "id": "947c3794",
   "metadata": {},
   "outputs": [],
   "source": [
    "\n",
    "import json\n",
    "import matplotlib.pyplot as plt\n",
    "from collections import Counter\n",
    "\n",
    "# Load integerity matrix\n",
    "with open(\"integerity_matrix.json\", \"r\") as f:\n",
    "    matrix = json.load(f)[\"integerity_matrix\"]\n",
    "\n",
    "# Count token types\n",
    "types = [entry[\"type\"] for entry in matrix]\n",
    "type_counts = Counter(types)\n",
    "\n",
    "# Plot token type frequency\n",
    "plt.figure(figsize=(8, 5))\n",
    "plt.bar(type_counts.keys(), type_counts.values(), color='mediumseagreen')\n",
    "plt.title(\"Token Types Across Integerity Matrix\")\n",
    "plt.xlabel(\"Type\")\n",
    "plt.ylabel(\"Frequency\")\n",
    "plt.xticks(rotation=45)\n",
    "plt.tight_layout()\n",
    "plt.show()\n"
   ]
  }
 ],
 "metadata": {},
 "nbformat": 4,
 "nbformat_minor": 5
}
