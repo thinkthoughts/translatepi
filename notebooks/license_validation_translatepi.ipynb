{
 "cells": [
  {
   "cell_type": "markdown",
   "id": "2ffed5ac",
   "metadata": {},
   "source": [
    "\n",
    "# Validating TranslatePi License Rules\n",
    "\n",
    "This notebook demonstrates how to verify that all uses of the TranslatePi codebase comply with the ∇-License anti-violent terms. It checks the presence and content of the license file and validates references to critical values such as `1+1 ≠ 1-1`, `9423Pi`, and `≠ -1`.\n",
    "\n",
    "It is part of the nonviolent accountability layer that clarifies all computation should align with bilateral physics and feminist thermodynamics — refusing zero-origin creationist logic.\n"
   ]
  },
  {
   "cell_type": "code",
   "execution_count": null,
   "id": "a94339c3",
   "metadata": {},
   "outputs": [],
   "source": [
    "\n",
    "import os\n",
    "\n",
    "license_keywords = [\"1+1 ≠ 1-1\", \"9423Pi\", \"≠ -1\", \"feminist\", \"nonviolent\", \"TranslatePi\", \"∇-License\"]\n",
    "filepath = \"LICENSE\"\n",
    "\n",
    "def validate_license(path):\n",
    "    if not os.path.exists(path):\n",
    "        return \"❌ LICENSE file missing\"\n",
    "    with open(path, \"r\") as f:\n",
    "        content = f.read()\n",
    "        missing = [kw for kw in license_keywords if kw not in content]\n",
    "        if missing:\n",
    "            return f\"⚠️ Missing required phrases: {missing}\"\n",
    "        else:\n",
    "            return \"✅ License includes all required phrases.\"\n",
    "\n",
    "result = validate_license(filepath)\n",
    "print(result)\n"
   ]
  }
 ],
 "metadata": {},
 "nbformat": 4,
 "nbformat_minor": 5
}
