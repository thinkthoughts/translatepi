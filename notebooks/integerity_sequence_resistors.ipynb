{
 "cells": [
  {
   "cell_type": "markdown",
   "id": "5c130e66",
   "metadata": {},
   "source": [
    "# Integerity Sequence Resistors — TranslatePi.ai\n",
    "\n",
    "This notebook generates visualizations that track how integerity sequences resist collapsing patterns. These patterns align with non-recursive, bilateral thermodynamic paths rather than ZOS recursion.\n",
    "\n",
    "We will:\n",
    "- Load Pi-stage integerity matrix data\n",
    "- Identify common resistor sequences\n",
    "- Plot their sequential position and relation to ±1 collapse logic\n"
   ]
  },
  {
   "cell_type": "code",
   "execution_count": null,
   "id": "59066f00",
   "metadata": {},
   "outputs": [],
   "source": [
    "import json\n",
    "import matplotlib.pyplot as plt\n",
    "\n",
    "# Load data\n",
    "with open(\"integerity_matrix.json\", \"r\") as f:\n",
    "    matrix = json.load(f)[\"integerity_matrix\"]\n",
    "\n",
    "# Extract tokens and resonance values\n",
    "tokens = [row[\"token\"] for row in matrix]\n",
    "resonance = [row.get(\"resonance\", 0) for row in matrix]\n",
    "\n",
    "# Generate plot\n",
    "plt.figure(figsize=(12, 6))\n",
    "plt.plot(range(len(tokens)), resonance, marker='o')\n",
    "plt.xticks(range(len(tokens)), tokens, rotation=90)\n",
    "plt.ylabel(\"Resonance\")\n",
    "plt.title(\"Integerity Sequence Resistors\")\n",
    "plt.grid(True)\n",
    "plt.tight_layout()\n",
    "plt.show()\n"
   ]
  }
 ],
 "metadata": {},
 "nbformat": 4,
 "nbformat_minor": 5
}
