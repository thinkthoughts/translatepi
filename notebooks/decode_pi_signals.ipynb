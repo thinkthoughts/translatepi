{
 "cells": [
  {
   "cell_type": "markdown",
   "id": "3498a6d0",
   "metadata": {},
   "source": [
    "\n",
    "# Decoding Pi-Stage Signal Translations — TranslatePi.ai\n",
    "\n",
    "This notebook simulates signal decoding from encoded token structures using the `pi_translator.py` helper. Each input string is tokenized into bilateral logic markers derived from Pi-stage identifiers.\n",
    "\n",
    "By visualizing and analyzing each token’s correspondence with Pi-sequence stages, this notebook helps ensure the clarity of bilateral balance and temperature-stage correctness, avoiding unilateral collapse decoding.\n"
   ]
  },
  {
   "cell_type": "code",
   "execution_count": null,
   "id": "33a874a7",
   "metadata": {},
   "outputs": [],
   "source": [
    "\n",
    "from src.pi_translator import tokenize\n",
    "\n",
    "example_string = \"TranslatePi\"\n",
    "tokens = tokenize(example_string)\n",
    "\n",
    "# Display token and Pi stage pairings\n",
    "for char, stage in tokens:\n",
    "    print(f\"Character: {char} → Pi Stage: {stage}\")\n"
   ]
  }
 ],
 "metadata": {},
 "nbformat": 4,
 "nbformat_minor": 5
}
