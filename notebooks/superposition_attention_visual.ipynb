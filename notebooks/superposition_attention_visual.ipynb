{
 "cells": [
  {
   "cell_type": "markdown",
   "id": "effd5636",
   "metadata": {},
   "source": [
    "\n",
    "# Superposition Attention Visualizer — TranslatePi.ai\n",
    "\n",
    "This notebook simulates attention-weighting for overlapping token identities within the TranslatePi.ai integerity model.\n",
    "\n",
    "Each token is given an attention weight based on its appearance across pi-stages and potential superposition, to visually depict balance and imbalance across possible collapse points.\n"
   ]
  },
  {
   "cell_type": "code",
   "execution_count": null,
   "id": "82f1a824",
   "metadata": {},
   "outputs": [],
   "source": [
    "\n",
    "import json\n",
    "import matplotlib.pyplot as plt\n",
    "import numpy as np\n",
    "\n",
    "# Load data\n",
    "with open(\"integerity_matrix.json\") as f:\n",
    "    data = json.load(f)[\"integerity_matrix\"]\n",
    "\n",
    "# Simulated attention weights (e.g. random for illustration)\n",
    "tokens = [entry[\"token\"] for entry in data]\n",
    "weights = np.random.rand(len(tokens)) * 10\n",
    "\n",
    "# Plotting\n",
    "plt.figure(figsize=(10, len(tokens) * 0.5))\n",
    "bars = plt.barh(tokens, weights, color='mediumseagreen')\n",
    "plt.xlabel(\"Simulated Attention Weight\")\n",
    "plt.title(\"Superposition Attention on Integerity Tokens\")\n",
    "plt.tight_layout()\n",
    "plt.show()\n"
   ]
  }
 ],
 "metadata": {},
 "nbformat": 4,
 "nbformat_minor": 5
}
