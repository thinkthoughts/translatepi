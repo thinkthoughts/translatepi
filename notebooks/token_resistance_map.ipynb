{
 "cells": [
  {
   "cell_type": "markdown",
   "id": "af322de6",
   "metadata": {},
   "source": [
    "# TranslatePi Token Resistance Map\n",
    "\n",
    "This notebook maps tokens from the `integerity_matrix.json` file to their categorized forms of resistance: expansion, disqualification, equation, etc. This visual layout helps understand each Pi-stage's function in resisting collapse and coordinating bilateral translations.\n"
   ]
  },
  {
   "cell_type": "code",
   "execution_count": null,
   "id": "f206a780",
   "metadata": {},
   "outputs": [],
   "source": [
    "import json\n",
    "import matplotlib.pyplot as plt\n",
    "\n",
    "# Load the JSON\n",
    "with open(\"integerity_matrix.json\", \"r\") as f:\n",
    "    matrix = json.load(f)[\"integerity_matrix\"]\n",
    "\n",
    "# Group by type\n",
    "types = {}\n",
    "for entry in matrix:\n",
    "    t = entry[\"type\"]\n",
    "    types[t] = types.get(t, 0) + 1\n",
    "\n",
    "# Plot\n",
    "plt.figure(figsize=(8, 6))\n",
    "plt.bar(types.keys(), types.values(), color='tomato')\n",
    "plt.title(\"Distribution of Token Types by Resistance Form\")\n",
    "plt.ylabel(\"Count\")\n",
    "plt.xticks(rotation=45)\n",
    "plt.tight_layout()\n",
    "plt.show()\n"
   ]
  }
 ],
 "metadata": {},
 "nbformat": 4,
 "nbformat_minor": 5
}
