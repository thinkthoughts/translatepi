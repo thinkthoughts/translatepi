from pathlib import Path
import nbformat as nbf

# Create a new notebook
nb = nbf.v4.new_notebook()

# Markdown cell content
markdown_cell = nbf.v4.new_markdown_cell("""
# Visualizing Integerity Stage Translations — TranslatePi.ai

This notebook visualizes the resonance and translation structure of selected Pi-stage tokens from the `integerity_matrix.json` file.

Each entry in the matrix represents:
- A **token** (logical or mathematical form)
- Its **Pi-stage classification**
- A **translation** into nonviolent scientific meaning
- A **resonance**, indicating its thermodynamic or symbolic implication

This visualization helps reinforce the `TranslatePi.ai` commitment to physically non-collapse-based computation and clear resistance against patriarchal decimalism. These diagrams serve as alternative temperature/entropy maps for bilateral cognition.
""")

# Code cell content
code_cell = nbf.v4.new_code_cell("""
import json
import matplotlib.pyplot as plt

# Load JSON data
with open("integerity_matrix.json", "r") as f:
    data = json.load(f)["integerity_matrix"]

# Extract data
tokens = [entry["token"] for entry in data]
stages = [entry["pi_stage"] for entry in data]

# Plotting
plt.figure(figsize=(10, len(tokens) * 0.5))
plt.barh(tokens, range(len(tokens)), color='skyblue')
plt.yticks(range(len(tokens)), tokens)
for i, stage in enumerate(stages):
    plt.text(0.5, i, stage, va='center', ha='center', color='black')
plt.xlabel("Visual Index")
plt.title("Integerity Matrix: Pi-Stage Visual")
plt.tight_layout()
plt.show()
""")

# Add cells
nb['cells'] = [markdown_cell, code_cell]

# Save notebook
notebook_path = Path("plot_integerity_stages.ipynb")
with open(notebook_path, "w") as f:
    nbf.write(nb, f)

print(f"✅ Notebook saved as: {notebook_path}")
