from pathlib import Path
import nbformat as nbf

# Define notebook content
nb = nbf.v4.new_notebook()

code = """
import json
import matplotlib.pyplot as plt

# Load JSON data
with open("integerity_matrix.json", "r") as f:
    data = json.load(f)["integerity_matrix"]

# Extract token and pi_stage
tokens = [entry["token"] for entry in data]
stages = [entry["pi_stage"] for entry in data]

# Plot
plt.figure(figsize=(10, 6))
plt.barh(tokens, range(len(tokens)), tick_label=stages)
plt.xlabel("Index")
plt.ylabel("Token")
plt.title("Integerity Matrix: Pi-Stage Visual")
plt.tight_layout()
plt.show()
"""

nb['cells'] = [nbf.v4.new_code_cell(code)]

# Save notebook
notebook_path = Path("plot_integerity_stages.ipynb")
with open(notebook_path, "w") as f:
    nbf.write(nb, f)

notebook_path.name
