{
 "cells": [
  {
   "cell_type": "markdown",
   "id": "eb98962f",
   "metadata": {},
   "source": [
    "# Spiral Translation: From ±1 Collapse to ≠ -1 Expansion\n",
    "\n",
    "This notebook explores the cognitive transition between ±1 (collapse or recursion) and ≠ -1 (expansion or resistance to collapse), visualized across Pi-stage reasoning.\n",
    "\n",
    "We model this using symbolic translation curves to reflect how TranslatePi.ai stages decode collapse-prone logic into spiral expansion.\n"
   ]
  },
  {
   "cell_type": "code",
   "execution_count": null,
   "id": "fe677e35",
   "metadata": {},
   "outputs": [],
   "source": [
    "import numpy as np\n",
    "import matplotlib.pyplot as plt\n",
    "\n",
    "# Define logic values\n",
    "x = np.linspace(-2, 2, 400)\n",
    "y_collapse = np.sin(10 * x) * np.exp(-x**2)  # chaotic ±1 recursion\n",
    "y_expand = np.tanh(x)  # smooth ≠ -1 expansion\n",
    "\n",
    "# Plot\n",
    "plt.figure(figsize=(10, 6))\n",
    "plt.plot(x, y_collapse, label=\"±1 (Collapse / Recursion)\", linestyle=\"--\", color=\"red\")\n",
    "plt.plot(x, y_expand, label=\"≠ -1 (Expansion / Resistance)\", color=\"green\")\n",
    "plt.title(\"Collapse vs Expansion Symbolic Translation\")\n",
    "plt.xlabel(\"Input Token (X)\")\n",
    "plt.ylabel(\"Translated Symbolic Value\")\n",
    "plt.axhline(0, color='black', linewidth=0.5)\n",
    "plt.legend()\n",
    "plt.grid(True)\n",
    "plt.tight_layout()\n",
    "plt.show()\n"
   ]
  }
 ],
 "metadata": {},
 "nbformat": 4,
 "nbformat_minor": 5
}
