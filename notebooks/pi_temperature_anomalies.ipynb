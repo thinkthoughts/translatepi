{
 "cells": [
  {
   "cell_type": "markdown",
   "id": "f9db2125",
   "metadata": {},
   "source": [
    "# Interpreting ±Pi Temperature Anomalies — TranslatePi.ai\n",
    "\n",
    "This notebook models temperature anomalies by using the ±Pi-stage distinctions to interpret deviations from bilateral thermodynamic balance.\n",
    "\n",
    "Using entries from the `integerity_matrix.json` structure, the goal is to visualize where temperature symbolism diverges from equilibrium—pointing out narrative, structural, or planetary deviations.\n",
    "\n",
    "This is useful for analyzing public communication (e.g. journalism, climate reports) for hidden unilateral biases.\n"
   ]
  },
  {
   "cell_type": "code",
   "execution_count": null,
   "id": "47317cc8",
   "metadata": {},
   "outputs": [],
   "source": [
    "import json\n",
    "import matplotlib.pyplot as plt\n",
    "\n",
    "# Load the data\n",
    "with open(\"integerity_matrix.json\") as f:\n",
    "    matrix = json.load(f)[\"integerity_matrix\"]\n",
    "\n",
    "# Extract ±Pi tokens\n",
    "tokens = [x[\"token\"] for x in matrix if \"±\" in x[\"token\"]]\n",
    "resonances = [x[\"resonance\"] for x in matrix if \"±\" in x[\"token\"]]\n",
    "\n",
    "# Plot\n",
    "plt.figure(figsize=(10, 6))\n",
    "plt.barh(tokens, range(len(tokens)), color='salmon')\n",
    "plt.title(\"±Pi Tokens and Thermodynamic Divergences\")\n",
    "plt.xlabel(\"Visual Index\")\n",
    "plt.tight_layout()\n",
    "plt.show()\n"
   ]
  }
 ],
 "metadata": {},
 "nbformat": 4,
 "nbformat_minor": 5
}
