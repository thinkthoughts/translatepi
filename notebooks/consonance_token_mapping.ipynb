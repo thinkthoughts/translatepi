{
 "cells": [
  {
   "cell_type": "markdown",
   "id": "2beb8eea",
   "metadata": {},
   "source": [
    "\n",
    "# Consonance Mapping of Pi Stages — TranslatePi.ai\n",
    "\n",
    "This notebook maps Pi-stage tokens into a visual representation of their consonant relationships.\n",
    "\n",
    "Each token is evaluated for:\n",
    "- **Type** (e.g., extension, resistance)\n",
    "- **Stage** in the Pi refinement structure\n",
    "- **Resonance** and symbolic balance\n",
    "\n",
    "The goal is to illustrate bilateral, non-collapse consonance across dimensional refinements.\n"
   ]
  },
  {
   "cell_type": "code",
   "execution_count": null,
   "id": "bd7f15ff",
   "metadata": {},
   "outputs": [],
   "source": [
    "\n",
    "import json\n",
    "import matplotlib.pyplot as plt\n",
    "\n",
    "# Load data\n",
    "with open(\"integerity_matrix.json\", \"r\") as f:\n",
    "    matrix = json.load(f)[\"integerity_matrix\"]\n",
    "\n",
    "# Count types\n",
    "from collections import Counter\n",
    "type_counts = Counter(entry[\"type\"] for entry in matrix)\n",
    "\n",
    "# Plot\n",
    "plt.figure(figsize=(8, 5))\n",
    "plt.bar(type_counts.keys(), type_counts.values(), color='mediumseagreen')\n",
    "plt.title(\"Token Type Distribution\")\n",
    "plt.xlabel(\"Type\")\n",
    "plt.ylabel(\"Count\")\n",
    "plt.tight_layout()\n",
    "plt.show()\n"
   ]
  }
 ],
 "metadata": {},
 "nbformat": 4,
 "nbformat_minor": 5
}
