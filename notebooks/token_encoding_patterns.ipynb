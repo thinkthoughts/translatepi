{
 "cells": [
  {
   "cell_type": "markdown",
   "id": "e58260ae",
   "metadata": {},
   "source": [
    "\n",
    "# Encoding Thermodynamic Tokens — TranslatePi.ai\n",
    "\n",
    "This notebook generates a visual reference of token encodings based on `integerity_matrix.json`. Each token is plotted along a numeric encoding axis to show symbolic thermodynamic indexing patterns.\n",
    "\n",
    "The x-axis reflects character-level cumulative encoding for each token.\n"
   ]
  },
  {
   "cell_type": "code",
   "execution_count": null,
   "id": "d2103b4a",
   "metadata": {},
   "outputs": [],
   "source": [
    "\n",
    "import json\n",
    "import matplotlib.pyplot as plt\n",
    "\n",
    "def encode_token(token):\n",
    "    return sum(ord(c) for c in token)\n",
    "\n",
    "with open(\"integerity_matrix.json\") as f:\n",
    "    data = json.load(f)[\"integerity_matrix\"]\n",
    "\n",
    "tokens = [entry[\"token\"] for entry in data]\n",
    "encodings = [encode_token(token) for token in tokens]\n",
    "\n",
    "plt.figure(figsize=(10, 6))\n",
    "plt.scatter(encodings, tokens, color='darkgreen')\n",
    "plt.xlabel(\"Cumulative Ordinal Encoding\")\n",
    "plt.ylabel(\"Tokens\")\n",
    "plt.title(\"Token Encoding Patterns — Thermodynamic View\")\n",
    "plt.grid(True)\n",
    "plt.tight_layout()\n",
    "plt.show()\n"
   ]
  }
 ],
 "metadata": {},
 "nbformat": 4,
 "nbformat_minor": 5
}
