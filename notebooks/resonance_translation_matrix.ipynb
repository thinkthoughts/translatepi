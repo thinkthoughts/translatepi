{
 "cells": [
  {
   "cell_type": "markdown",
   "id": "e70d2adc",
   "metadata": {},
   "source": [
    "# Resonance Translation Matrix — TranslatePi.ai\n",
    "\n",
    "This notebook constructs a matrix visualization that aligns Pi-stage `translation` values with their corresponding `resonance`. It helps clarify non-collapse interpretation across a bilateral token system.\n"
   ]
  },
  {
   "cell_type": "code",
   "execution_count": null,
   "id": "cefe5407",
   "metadata": {},
   "outputs": [],
   "source": [
    "import json\n",
    "import pandas as pd\n",
    "import seaborn as sns\n",
    "import matplotlib.pyplot as plt\n",
    "\n",
    "# Load data\n",
    "with open(\"../integerity_matrix.json\") as f:\n",
    "    matrix = json.load(f)[\"integerity_matrix\"]\n",
    "\n",
    "# Create DataFrame\n",
    "df = pd.DataFrame(matrix)\n",
    "\n",
    "# Create crosstab matrix\n",
    "pivot = pd.crosstab(df['translation'], df['resonance'])\n",
    "\n",
    "# Plot heatmap\n",
    "plt.figure(figsize=(12, 8))\n",
    "sns.heatmap(pivot, annot=True, fmt=\"d\", cmap=\"YlGnBu\")\n",
    "plt.title(\"Resonance × Translation Matrix\")\n",
    "plt.xticks(rotation=45, ha=\"right\")\n",
    "plt.tight_layout()\n",
    "plt.show()\n"
   ]
  }
 ],
 "metadata": {},
 "nbformat": 4,
 "nbformat_minor": 5
}
