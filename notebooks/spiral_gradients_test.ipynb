{
 "cells": [
  {
   "cell_type": "markdown",
   "id": "88a17e7e",
   "metadata": {},
   "source": [
    "\n",
    "# Testing Spiral Gradients — TranslatePi.ai\n",
    "\n",
    "This notebook validates the behavior of the spiral gradient logic within `spiral_gradients.py`.\n",
    "\n",
    "The goal is to ensure:\n",
    "- Spiral index input produces expected energy gradients\n",
    "- Transition dynamics align with thermodynamic non-collapse principles\n"
   ]
  },
  {
   "cell_type": "code",
   "execution_count": null,
   "id": "46ebe8f1",
   "metadata": {},
   "outputs": [],
   "source": [
    "\n",
    "from src.spiral_gradients import generate_spiral_gradient\n",
    "\n",
    "# Example test cases\n",
    "spirals = [1, 17, 142, 301]\n",
    "for s in spirals:\n",
    "    gradient = generate_spiral_gradient(s)\n",
    "    print(f\"Spiral {s} → Gradient: {gradient}\")\n"
   ]
  }
 ],
 "metadata": {},
 "nbformat": 4,
 "nbformat_minor": 5
}
