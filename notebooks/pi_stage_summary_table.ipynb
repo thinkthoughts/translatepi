{
 "cells": [
  {
   "cell_type": "markdown",
   "id": "59e351e1",
   "metadata": {},
   "source": [
    "\n",
    "# Pi-Stage Summary Table — TranslatePi.ai\n",
    "\n",
    "This notebook summarizes and displays a table of Pi-stage tokens using data from `integerity_matrix.json`.\n",
    "\n",
    "Each row includes:\n",
    "- A **token**\n",
    "- Its **Pi-stage classification**\n",
    "- A **translation** of the token\n",
    "- Its **resonance**\n",
    "\n",
    "This tabular view supports clarity and reinforces second-person (bilateral) thermodynamic observations as nonviolent refinements of scientific structure.\n"
   ]
  },
  {
   "cell_type": "code",
   "execution_count": null,
   "id": "fc15789e",
   "metadata": {},
   "outputs": [],
   "source": [
    "\n",
    "import json\n",
    "import pandas as pd\n",
    "\n",
    "# Load JSON data\n",
    "with open(\"integerity_matrix.json\", \"r\") as f:\n",
    "    data = json.load(f)[\"integerity_matrix\"]\n",
    "\n",
    "# Convert to DataFrame\n",
    "df = pd.DataFrame(data)\n",
    "\n",
    "# Display table\n",
    "df.style.set_properties(**{\n",
    "    'background-color': 'black',\n",
    "    'color': 'white',\n",
    "    'border-color': 'gray'\n",
    "})\n"
   ]
  }
 ],
 "metadata": {},
 "nbformat": 4,
 "nbformat_minor": 5
}
