{
 "cells": [
  {
   "cell_type": "markdown",
   "id": "219e6358",
   "metadata": {},
   "source": [
    "\n",
    "# License Matrix Validator — TranslatePi.ai\n",
    "\n",
    "This notebook is a validation tool for checking whether project tokens and usage fall within allowed resonance and translation ranges, consistent with `TranslatePi.ai` principles.\n",
    "\n",
    "It loads `integerity_matrix.json` and validates entries for:\n",
    "- Nonviolent extensions and expansions\n",
    "- Resistance consistency (`≠ -1`)\n",
    "- Alignment with decentralized thermodynamic computation\n",
    "\n",
    "Use this notebook to preview new license claims or to automate constraints in future extensions of the project.\n"
   ]
  },
  {
   "cell_type": "code",
   "execution_count": null,
   "id": "7adc96d0",
   "metadata": {},
   "outputs": [],
   "source": [
    "\n",
    "import json\n",
    "\n",
    "# Load matrix\n",
    "with open(\"integerity_matrix.json\") as f:\n",
    "    matrix = json.load(f)[\"integerity_matrix\"]\n",
    "\n",
    "# Define disallowed resonance patterns\n",
    "disallowed = [\"collapse\", \"zero-origin\", \"patriarchal\"]\n",
    "\n",
    "# Run check\n",
    "flagged = []\n",
    "for entry in matrix:\n",
    "    if any(bad in entry[\"resonance\"].lower() for bad in disallowed):\n",
    "        flagged.append(entry)\n",
    "\n",
    "if flagged:\n",
    "    print(\"⚠️ Entries flagged for possible zero-origin or collapse risks:\")\n",
    "    for item in flagged:\n",
    "        print(f\"- Token: {item['token']} | Resonance: {item['resonance']}\")\n",
    "else:\n",
    "    print(\"✅ All entries validated as non-collapse, decentralized, nonviolent.\")\n"
   ]
  }
 ],
 "metadata": {},
 "nbformat": 4,
 "nbformat_minor": 5
}
