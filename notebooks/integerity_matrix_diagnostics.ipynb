{
 "cells": [
  {
   "cell_type": "markdown",
   "id": "abad0446",
   "metadata": {},
   "source": [
    "# Integerity Matrix Diagnostics — TranslatePi.ai\n",
    "\n",
    "This notebook runs checks and visual summaries on the structure of the `integerity_matrix.json` file. It ensures consistency across tokens, Pi-stage formatting, and highlights potential logic gaps or redundancies.\n",
    "\n",
    "Goals:\n",
    "- Verify token uniqueness\n",
    "- Ensure all Pi-stages follow valid naming\n",
    "- Highlight duplicate translations or ambiguous resonance labels\n"
   ]
  },
  {
   "cell_type": "code",
   "execution_count": null,
   "id": "75b8345b",
   "metadata": {},
   "outputs": [],
   "source": [
    "import json\n",
    "from collections import Counter\n",
    "import re\n",
    "\n",
    "with open(\"integerity_matrix.json\", \"r\") as f:\n",
    "    matrix = json.load(f)[\"integerity_matrix\"]\n",
    "\n",
    "tokens = [entry[\"token\"] for entry in matrix]\n",
    "pi_stages = [entry[\"pi_stage\"] for entry in matrix]\n",
    "translations = [entry[\"translation\"] for entry in matrix]\n",
    "resonances = [entry[\"resonance\"] for entry in matrix]\n",
    "\n",
    "# Uniqueness checks\n",
    "print(\"✅ Unique Tokens:\", len(tokens) == len(set(tokens)))\n",
    "print(\"✅ Unique Translations:\", len(translations) == len(set(translations)))\n",
    "\n",
    "# Pi-stage pattern check\n",
    "invalid_stages = [s for s in pi_stages if not re.match(r'^[-+≠]*\\s*\\d*Pi|ZOS|∞Pi|pre-\\d+Pi|post-\\d+Pi$', s)]\n",
    "print(\"🚨 Invalid Pi-stage formats:\", invalid_stages)\n",
    "\n",
    "# Resonance summary\n",
    "resonance_counts = Counter(resonances)\n",
    "print(\"\\n🔁 Resonance Summary:\")\n",
    "for r, count in resonance_counts.items():\n",
    "    print(f\"{r}: {count}\")\n"
   ]
  }
 ],
 "metadata": {},
 "nbformat": 4,
 "nbformat_minor": 5
}
