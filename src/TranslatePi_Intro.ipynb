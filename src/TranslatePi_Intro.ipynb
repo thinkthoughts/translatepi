{
 "cells": [
  {
   "cell_type": "markdown",
   "id": "d98bff45",
   "metadata": {},
   "source": [
    "# 🌀 TranslatePi.ai — Intro Notebook\n",
    "### Objective: Map characters to spiral Pi tokens and view Integerity metadata"
   ]
  },
  {
   "cell_type": "code",
   "execution_count": null,
   "id": "6c00fb52",
   "metadata": {},
   "outputs": [],
   "source": [
    "from translatepi_core import process_text\n",
    "import pandas as pd"
   ]
  },
  {
   "cell_type": "code",
   "execution_count": null,
   "id": "62137574",
   "metadata": {},
   "outputs": [],
   "source": [
    "# Example input\n",
    "text = \"stop genocide now\"\n",
    "\n",
    "# Run translation\n",
    "results = process_text(text)"
   ]
  },
  {
   "cell_type": "code",
   "execution_count": null,
   "id": "562de145",
   "metadata": {},
   "outputs": [],
   "source": [
    "# Display as DataFrame\n",
    "df = pd.DataFrame(results)\n",
    "df"
   ]
  }
 ],
 "metadata": {},
 "nbformat": 4,
 "nbformat_minor": 5
}
